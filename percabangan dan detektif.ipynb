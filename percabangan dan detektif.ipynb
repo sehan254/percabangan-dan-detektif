{
 "cells": [
  {
   "cell_type": "code",
   "execution_count": 2,
   "id": "c2852bfd",
   "metadata": {},
   "outputs": [
    {
     "name": "stdout",
     "output_type": "stream",
     "text": [
      "isiskan nilai5\n",
      "5 adalah bilangan ganjil\n",
      "program selesai\n"
     ]
    }
   ],
   "source": [
    "#menentukan ganjil genap\n",
    "nilai = int(input('isiskan nilai'))\n",
    "sisa_bagi = nilai % 2\n",
    "\n",
    "if sisa_bagi==0:\n",
    "    print(f'{nilai} adalah bilangan genap')\n",
    "else:\n",
    "    print(f'{nilai} adalah bilangan ganjil')\n",
    "    \n",
    "print('program selesai') \n"
   ]
  },
  {
   "cell_type": "code",
   "execution_count": 10,
   "id": "2b9c405f",
   "metadata": {},
   "outputs": [
    {
     "name": "stdout",
     "output_type": "stream",
     "text": [
      "isikan nilai pemrograman-100\n",
      "nilai anda kurang\n"
     ]
    }
   ],
   "source": [
    "# 0 - 49 =>\n",
    "# 50 - 59 =>\n",
    "# 60 - 69 =>\n",
    "# 70 - 84 =>\n",
    "# 85 - 100 =>\n",
    "\n",
    "nilai_program = int(input('isikan nilai pemrograman'))\n",
    "if nilai_program <0 or nilai_program >100:\n",
    "    print(\"nilai anda kurang\")\n",
    "else:\n",
    "    if nilai_program <50:\n",
    "        print (\"E\")\n",
    "    elif nilai_program <60:\n",
    "        print (\"D\")\n",
    "    elif nilai_program <70:\n",
    "        print (\"C\")\n",
    "    elif nilai_program <85:\n",
    "        print (\"B\")\n",
    "    elif nilai_program <=100:\n",
    "        print (\"A\")\n"
   ]
  },
  {
   "cell_type": "code",
   "execution_count": 17,
   "id": "503077f6",
   "metadata": {},
   "outputs": [
    {
     "name": "stdout",
     "output_type": "stream",
     "text": [
      "isikan usernamegbhvl\n",
      "isikan passwordhlugbyh\n",
      "username dan pasword anda salah\n"
     ]
    }
   ],
   "source": [
    "username = input ('isikan username')\n",
    "password = input ('isikan password')\n",
    "\n",
    "if username == 'admin':\n",
    "    if password== 'admin':\n",
    "        print(f'selamat datang {username}')\n",
    "    else:\n",
    "        print(f'password anda salah')\n",
    "else:\n",
    "    if password == 'admin':\n",
    "        print(\"Username anda salah\")\n",
    "    else:\n",
    "        print(\"username dan pasword anda salah\")"
   ]
  },
  {
   "cell_type": "code",
   "execution_count": null,
   "id": "7fd26ce7",
   "metadata": {},
   "outputs": [],
   "source": [
    "nama = input('isikan nama')\n",
    "umur = int(input('isikan umur'))\n",
    "alamat = input('isikan alamat')\n",
    "tabungan = int(input('isikan nominal'))\n",
    "pangkat =''\n",
    "\n",
    "if umur >40:\n",
    "    if alamat == \"New York\" or alamat ==\"Nevada\" or alamat == \"Havana\":\n",
    "        if tabungan > 10:\n",
    "             pangkat = \"Don\"\n",
    "elif umur >=25 and umur<40:\n",
    "    if alamat == \"New Jersey\" or alamat ==\"Manhattan\" or alamat == \"Havana\":\n",
    "        if tabungan >0 and tabungan <=2:\n",
    "             pangkat = \"UnderBoss\"\n",
    "elif umur >=18 and umur<24:\n",
    "    if alamat == \"California\" or alamat ==\"Detroit\" or alamat == \"Boston\":\n",
    "        if tabungan <1:\n",
    "             pangkat = \"Capo\"\n",
    "\n",
    "if pangkat !='':\n",
    "    print(f\"{nama} kemungkinan adalah seorang anggota mafia dengan pangkat {pangkat}\")\n",
    "else:\n",
    "    print (f\"{nama}tidak mencurigakan\")\n",
    "                \n"
   ]
  },
  {
   "cell_type": "code",
   "execution_count": null,
   "id": "8afef8ef",
   "metadata": {},
   "outputs": [],
   "source": []
  }
 ],
 "metadata": {
  "kernelspec": {
   "display_name": "Python 3 (ipykernel)",
   "language": "python",
   "name": "python3"
  },
  "language_info": {
   "codemirror_mode": {
    "name": "ipython",
    "version": 3
   },
   "file_extension": ".py",
   "mimetype": "text/x-python",
   "name": "python",
   "nbconvert_exporter": "python",
   "pygments_lexer": "ipython3",
   "version": "3.9.12"
  }
 },
 "nbformat": 4,
 "nbformat_minor": 5
}
